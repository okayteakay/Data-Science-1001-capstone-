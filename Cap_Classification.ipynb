{
  "nbformat": 4,
  "nbformat_minor": 0,
  "metadata": {
    "colab": {
      "provenance": []
    },
    "kernelspec": {
      "name": "python3",
      "display_name": "Python 3"
    },
    "language_info": {
      "name": "python"
    }
  },
  "cells": [
    {
      "cell_type": "markdown",
      "metadata": {
        "id": "UgvfOd41tK-C"
      },
      "source": [
        "## Classification"
      ]
    },
    {
      "cell_type": "code",
      "execution_count": null,
      "metadata": {
        "id": "839ac31e"
      },
      "outputs": [],
      "source": [
        "df = pd.read_csv('transformed_fps.csv')"
      ]
    },
    {
      "cell_type": "code",
      "execution_count": null,
      "metadata": {
        "id": "9d6a014b"
      },
      "outputs": [],
      "source": [
        "df.shape"
      ]
    },
    {
      "cell_type": "code",
      "execution_count": null,
      "metadata": {
        "id": "496dd9d3"
      },
      "outputs": [],
      "source": [
        "drop_cols = ['id', 'CPU Name', 'GPU Name','GPU Open GL','CPU Model','Dataset'] #GPU Open GL has only one value\n",
        "label_cols = ['CPU Brand', 'CPU Series',\n",
        "              'CPU Type', 'CPU Multiplier Unlocked',\n",
        "              'GPU Architecture', 'GPU Bus', 'GPU Memory Type',\n",
        "              'GPU Open CL','GPU Shader Model', 'GPU Vulkan', 'Game',\n",
        "              ]\n",
        "\n",
        "auto_ordinal_cols = ['Game Resolution', 'CPU Base Clock', 'GPU Direct X'] # Questionable: CPU Base Clock, \n",
        "\n",
        "#df['CPU Model'] = df['CPU Model'].replace({'X2': 0, '3': 1, 'i3': 1, '5': 2, 'i5': 2, '7': 3, 'i7': 3, '9': 4, 'Threadripper': 5})\n",
        "\n",
        "df = df.drop(drop_cols, axis=1)\n",
        "\n"
      ]
    },
    {
      "cell_type": "code",
      "execution_count": null,
      "metadata": {
        "id": "b317be61"
      },
      "outputs": [],
      "source": [
        "df = pd.get_dummies(df, columns=label_cols)"
      ]
    },
    {
      "cell_type": "code",
      "execution_count": null,
      "metadata": {
        "id": "4be08b75"
      },
      "outputs": [],
      "source": [
        "df"
      ]
    },
    {
      "cell_type": "code",
      "execution_count": null,
      "metadata": {
        "id": "c2c2d09f"
      },
      "outputs": [],
      "source": [
        "enc_dict_resolution = {720:0,1080:1,1440:2}\n",
        "df['Game Resolution'] = df['Game Resolution'].map(enc_dict_resolution)\n",
        "\n",
        "enc_dict_CPU_base_clock = {100:0,133:1,200:2}\n",
        "df['CPU Base Clock'] = df['CPU Base Clock'].map(enc_dict_CPU_base_clock)\n",
        "\n",
        "df['GPU Direct X'] = df['GPU Direct X'].astype(str)\n",
        "enc_dict_direct = {'12':0,'12 Ultimate':1}\n",
        "df['GPU Direct X'] = df['GPU Direct X'].map(enc_dict_direct)"
      ]
    },
    {
      "cell_type": "code",
      "execution_count": null,
      "metadata": {
        "id": "ac3fa484"
      },
      "outputs": [],
      "source": [
        "def plot_ROC_curve(model, xtrain, ytrain, xtest, ytest):\n",
        "\n",
        "    # Creating visualization with the readable labels\n",
        "    visualizer = ROCAUC(model)\n",
        "                                        \n",
        "    # Fitting to the training data first then scoring with the test data                                    \n",
        "    visualizer.fit(xtrain, ytrain)\n",
        "    visualizer.score(xtest, ytest)\n",
        "    visualizer.show()\n",
        "    \n",
        "    return visualizer\n",
        "\n",
        "def roc_auc_score_multiclass(actual_class, pred_class, average = \"macro\"):\n",
        "    \n",
        "    #creating a set of all the unique classes using the actual class list\n",
        "    unique_class = set(actual_class)\n",
        "    roc_auc_dict = {}\n",
        "    for per_class in unique_class:\n",
        "        \n",
        "        #creating a list of all the classes except the current class \n",
        "        other_class = [x for x in unique_class if x != per_class]\n",
        "\n",
        "        #marking the current class as 1 and all other classes as 0\n",
        "        new_actual_class = [0 if x in other_class else 1 for x in actual_class]\n",
        "        new_pred_class = [0 if x in other_class else 1 for x in pred_class]\n",
        "\n",
        "        #using the sklearn metrics method to calculate the roc_auc_score\n",
        "        roc_auc = roc_auc_score(new_actual_class, new_pred_class, average = average)\n",
        "        roc_auc_dict[per_class] = roc_auc\n",
        "\n",
        "    return roc_auc_dict"
      ]
    },
    {
      "cell_type": "code",
      "execution_count": null,
      "metadata": {
        "id": "fcb5cfb7"
      },
      "outputs": [],
      "source": [
        "#full dataset\n",
        "rfc = RandomForestClassifier(bootstrap=True, ccp_alpha=0.0, class_weight=None,\n",
        "                       criterion='gini', max_depth=None, max_features='auto',\n",
        "                       max_leaf_nodes=None, max_samples=None,\n",
        "                       min_impurity_decrease=0.0,\n",
        "                       min_samples_leaf=1, min_samples_split=2,\n",
        "                       min_weight_fraction_leaf=0.0, n_estimators=100,\n",
        "                       n_jobs=-1, oob_score=False, random_state=R_STATE, verbose=0,\n",
        "                      warm_start=False)\n",
        "df1=df.drop(\"Game Settings\",axis=1)\n",
        "X = df1\n",
        "y = df['Game Settings']\n",
        "\n",
        "X_train, X_test, y_train, y_test = train_test_split(X, y, test_size = 0.30, random_state=R_STATE)\n",
        "rfc.fit(X_train, y_train) \n",
        "\n",
        "y_pred=rfc.predict(X_test)\n",
        "target_names = ['low', 'med', 'high','max']\n",
        "print(classification_report(y_test, y_pred, target_names=target_names))"
      ]
    },
    {
      "cell_type": "code",
      "execution_count": null,
      "metadata": {
        "id": "bcd9d65e",
        "scrolled": false
      },
      "outputs": [],
      "source": [
        "plot_ROC_curve(rfc, X_train, y_train, X_test, y_test)"
      ]
    },
    {
      "cell_type": "code",
      "execution_count": null,
      "metadata": {
        "id": "c8f39db4"
      },
      "outputs": [],
      "source": [
        "#with 25 components\n",
        "rfc = RandomForestClassifier(bootstrap=True, ccp_alpha=0.0, class_weight=None,\n",
        "                       criterion='gini', max_depth=None, max_features='auto',\n",
        "                       max_leaf_nodes=None, max_samples=None,\n",
        "                       min_impurity_decrease=0.0,\n",
        "                       min_samples_leaf=1, min_samples_split=2,\n",
        "                       min_weight_fraction_leaf=0.0, n_estimators=100,\n",
        "                       n_jobs=-1, oob_score=False, random_state=R_STATE, verbose=0,\n",
        "                      warm_start=False)\n",
        "df1=df.drop(\"Game Settings\",axis=1)\n",
        "X = df1\n",
        "y = df['Game Settings']\n",
        "steps = [('pca', PCA(n_components=25)), ('m', rfc)]\n",
        "model = Pipeline(steps=steps)\n",
        "\n",
        "X_train, X_test, y_train, y_test = train_test_split(X, y, test_size = 0.30, random_state=R_STATE)\n",
        "model.fit(X_train, y_train) \n",
        "\n",
        "y_pred=model.predict(X_test)\n",
        "target_names = ['low', 'med', 'high','max']\n",
        "print(classification_report(y_test, y_pred, target_names=target_names))"
      ]
    },
    {
      "cell_type": "code",
      "execution_count": null,
      "metadata": {
        "id": "f89c24c9"
      },
      "outputs": [],
      "source": [
        "plot_ROC_curve(model, X_train, y_train, X_test, y_test)"
      ]
    },
    {
      "cell_type": "code",
      "execution_count": null,
      "metadata": {
        "id": "0f64caf6"
      },
      "outputs": [],
      "source": [
        "#with 30 components\n",
        "rfc = RandomForestClassifier(bootstrap=True, ccp_alpha=0.0, class_weight=None,\n",
        "                       criterion='gini', max_depth=None, max_features='auto',\n",
        "                       max_leaf_nodes=None, max_samples=None,\n",
        "                       min_impurity_decrease=0.0,\n",
        "                       min_samples_leaf=1, min_samples_split=2,\n",
        "                       min_weight_fraction_leaf=0.0, n_estimators=100,\n",
        "                       n_jobs=-1, oob_score=False, random_state=R_STATE, verbose=0,\n",
        "                      warm_start=False)\n",
        "df1=df.drop(\"Game Settings\",axis=1)\n",
        "X = df1\n",
        "y = df['Game Settings']\n",
        "steps = [('pca', PCA(n_components=30)), ('m', rfc)]\n",
        "model = Pipeline(steps=steps)\n",
        "\n",
        "X_train, X_test, y_train, y_test = train_test_split(X, y, test_size = 0.30, random_state=R_STATE)\n",
        "model.fit(X_train, y_train) \n",
        "\n",
        "y_pred=model.predict(X_test)\n",
        "target_names = ['low', 'med', 'high','max']\n",
        "print(classification_report(y_test, y_pred, target_names=target_names))"
      ]
    },
    {
      "cell_type": "code",
      "execution_count": null,
      "metadata": {
        "id": "8168c4b8"
      },
      "outputs": [],
      "source": [
        "plot_ROC_curve(model, X_train, y_train, X_test, y_test)"
      ]
    },
    {
      "cell_type": "code",
      "execution_count": null,
      "metadata": {
        "id": "DvcB3aYZVEdK"
      },
      "outputs": [],
      "source": [
        "#lightgbm full dataset\n",
        "df1=df.drop(\"Game Settings\",axis=1)\n",
        "X = df1\n",
        "y = df['Game Settings']\n",
        "\n",
        "X_train, X_test, y_train, y_test = train_test_split(X, y, test_size = 0.30, random_state=R_STATE)\n",
        "model = lgb.LGBMClassifier(learning_rate=0.09,max_depth=-5,random_state=R_STATE)\n",
        "model.fit(X_train,y_train)\n",
        "\n",
        "y_pred=model.predict(X_test)\n",
        "target_names = ['low', 'med', 'high','max']\n",
        "print(classification_report(y_test, y_pred, target_names=target_names))"
      ]
    },
    {
      "cell_type": "code",
      "execution_count": null,
      "metadata": {
        "id": "s0oMVaQmVPHa"
      },
      "outputs": [],
      "source": [
        "plot_ROC_curve(model, X_train, y_train, X_test, y_test)"
      ]
    },
    {
      "cell_type": "code",
      "execution_count": null,
      "metadata": {
        "id": "1_0WN-LOVRuy"
      },
      "outputs": [],
      "source": [
        "#25 components\n",
        "\n",
        "lgbm_full = lgb.LGBMClassifier(learning_rate=0.09,max_depth=-5,random_state=R_STATE)\n",
        "df1=df.drop(\"Game Settings\",axis=1)\n",
        "X = df1\n",
        "y = df['Game Settings']\n",
        "steps = [('pca', PCA(n_components=25)), ('m', lgbm_full)]\n",
        "model = Pipeline(steps=steps)\n",
        "\n",
        "X_train, X_test, y_train, y_test = train_test_split(X, y, test_size = 0.30, random_state=R_STATE)\n",
        "model.fit(X_train, y_train) \n",
        "\n",
        "y_pred=model.predict(X_test)\n",
        "target_names = ['low', 'med', 'high','max']\n",
        "print(classification_report(y_test, y_pred, target_names=target_names))"
      ]
    },
    {
      "cell_type": "code",
      "execution_count": null,
      "metadata": {
        "id": "BGhxWLNCVWO_"
      },
      "outputs": [],
      "source": [
        "plot_ROC_curve(model, X_train, y_train, X_test, y_test)"
      ]
    },
    {
      "cell_type": "code",
      "execution_count": null,
      "metadata": {
        "id": "V4MREdAnVX7G"
      },
      "outputs": [],
      "source": [
        "#30 components\n",
        "\n",
        "lgbm_full = lgb.LGBMClassifier(learning_rate=0.09,max_depth=-5,random_state=R_STATE)\n",
        "df1=df.drop(\"Game Settings\",axis=1)\n",
        "X = df1\n",
        "y = df['Game Settings']\n",
        "steps = [('pca', PCA(n_components=30)), ('m', lgbm_full)]\n",
        "model = Pipeline(steps=steps)\n",
        "\n",
        "X_train, X_test, y_train, y_test = train_test_split(X, y, test_size = 0.30, random_state=R_STATE)\n",
        "model.fit(X_train, y_train) \n",
        "\n",
        "y_pred=model.predict(X_test)\n",
        "target_names = ['low', 'med', 'high','max']\n",
        "print(classification_report(y_test, y_pred, target_names=target_names))"
      ]
    },
    {
      "cell_type": "code",
      "execution_count": null,
      "metadata": {
        "id": "Q7hVv3z9VbiD"
      },
      "outputs": [],
      "source": [
        "plot_ROC_curve(model, X_train, y_train, X_test, y_test)"
      ]
    }
  ]
}