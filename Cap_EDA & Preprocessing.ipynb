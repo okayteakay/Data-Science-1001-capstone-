{
  "nbformat": 4,
  "nbformat_minor": 0,
  "metadata": {
    "colab": {
      "provenance": []
    },
    "kernelspec": {
      "name": "python3",
      "display_name": "Python 3"
    },
    "language_info": {
      "name": "python"
    }
  },
  "cells": [
    {
      "cell_type": "code",
      "execution_count": null,
      "metadata": {
        "id": "Xi5_uSRlZwm9"
      },
      "outputs": [],
      "source": [
        "!pip install pandasql gower kmodes category_encoders -q"
      ]
    },
    {
      "cell_type": "code",
      "execution_count": null,
      "metadata": {
        "id": "Zlgo15aFYs-y"
      },
      "outputs": [],
      "source": [
        "import pandas as pd\n",
        "import numpy as np\n",
        "from pandasql import sqldf\n",
        "\n",
        "import math\n",
        "from scipy import stats\n",
        "from scipy.stats import geom\n",
        "from sklearn.linear_model import LinearRegression\n",
        "from statsmodels.stats.power import TTestIndPower, ttest_power\n",
        "\n",
        "import re\n",
        "from tqdm.notebook import tqdm\n",
        "\n",
        "import seaborn as sns\n",
        "from plotly import tools\n",
        "import plotly.express as px\n",
        "import plotly.graph_objects as go\n",
        "from plotly.subplots import make_subplots\n",
        "import plotly.offline as py\n",
        "import matplotlib.pyplot as plt\n",
        "%matplotlib inline\n",
        "\n",
        "# import gower\n",
        "# import lightgbm as lgb\n",
        "# from sklearn.pipeline import Pipeline\n",
        "# from sklearn.preprocessing import StandardScaler\n",
        "# from sklearn.decomposition import PCA\n",
        "# from category_encoders import TargetEncoder\n",
        "# from sklearn.ensemble import RandomForestRegressor, RandomForestClassifier\n",
        "# from sklearn.model_selection import train_test_split, GridSearchCV, RandomizedSearchCV\n",
        "# from sklearn.metrics import r2_score, mean_squared_error, roc_auc_score, classification_report, mean_absolute_error\n",
        "# from keras.callbacks import ModelCheckpoint\n",
        "# from keras.models import Sequential\n",
        "# from keras.layers import Dense, Activation, Flatten\n",
        "# from kmodes.kprototypes import KPrototypes\n",
        "# from sklearn.cluster import KMeans, DBSCAN\n",
        "# from mpl_toolkits.mplot3d import Axes3D\n",
        "# from yellowbrick.classifier import ROCAUC\n",
        "\n",
        "import warnings\n",
        "warnings.filterwarnings('ignore')\n",
        "warnings.filterwarnings('ignore', category = DeprecationWarning)\n",
        "\n",
        "R_STATE = 18714836 # random state"
      ]
    },
    {
      "cell_type": "code",
      "execution_count": null,
      "metadata": {
        "id": "AgvHpPspyVkA"
      },
      "outputs": [],
      "source": [
        "from google.colab import drive\n",
        "drive.mount('/content/gdrive', force_remount=True)"
      ]
    },
    {
      "cell_type": "markdown",
      "metadata": {
        "id": "BNpc9Lt8ZWPb"
      },
      "source": [
        "## Data Loading and Cleaning"
      ]
    },
    {
      "cell_type": "code",
      "execution_count": null,
      "metadata": {
        "id": "ph-6yvUSyP4f"
      },
      "outputs": [],
      "source": [
        "df = pd.read_csv('/content/gdrive/MyDrive/Capstone/fps_videogames.csv')"
      ]
    },
    {
      "cell_type": "code",
      "execution_count": null,
      "metadata": {
        "id": "jPXw9D-OY6jF"
      },
      "outputs": [],
      "source": [
        "rename = {'CpuName': 'CPU Name', 'CpuNumberOfCores': 'CPU Cores', 'CpuNumberOfThreads': 'CPU Threads',\n",
        "          'CpuBaseClock': 'CPU Base Clock', 'CpuCacheL1': 'CPU Cache L1', 'CpuCacheL2': 'CPU Cache L2',\n",
        "          'CpuCacheL3': 'CPU Cache L3', 'CpuDieSize': 'CPU Die Size', 'CpuFrequency': 'CPU Frequency',\n",
        "          'CpuMultiplier': 'CPU Multiplier', 'CpuMultiplierUnlocked': 'CPU Multiplier Unlocked',\n",
        "          'CpuProcessSize': 'CPU Process Size', 'CpuTDP': 'CPU TDP', 'CpuNumberOfTransistors': 'CPU Transistors',\n",
        "          'CpuTurboClock': 'CPU Turbo Clock',\n",
        "          'GpuName': 'GPU Name', 'GpuArchitecture': 'GPU Architecture', 'GpuBandwidth': 'GPU Bandwidth',\n",
        "          'GpuBaseClock': 'GPU Base Clock', 'GpuBoostClock': 'GPU Boost Clock', '\\'GpuBus': 'GPU Bus',\n",
        "          'GpuNumberOfComputeUnits': 'GPU Compute Units', 'GpuDieSize': 'GPU Die Size', 'GpuDirectX': 'GPU Direct X',\n",
        "          'GpuNumberOfExecutionUnits': 'GPU Execution Units', 'GpuFP32Performance': 'GPU FP32 Performance',\n",
        "          'GpuMemoryBus': 'GPU Memory Bus', 'GpuMemorySize': 'GPU Memory Size', 'GpuMemoryType': 'GPU Memory Type',\n",
        "          'GpuOpenCL': 'GPU Open CL', 'GpuOpenGL': 'GPU Open GL', 'GpuPixelRate': 'GPU Pixel Rate', 'GpuProcessSize': 'GPU Process Size',\n",
        "          'GpuNumberOfROPs': 'GPU Number of ROPs', 'GpuShaderModel': 'GPU Shader Model', 'GpuNumberOfShadingUnits': 'GPU Shading Units',\n",
        "          'GpuNumberOfTMUs': 'GPU TMUs', 'GpuTextureRate': 'GPU Texture Rate', 'GpuNumberOfTransistors': 'GPU Transistors', 'GpuVulkan': 'GPU Vulkan',\n",
        "          'GameName': 'Game', 'GameResolution': 'Game Resolution', 'GameSetting': 'Game Settings'}\n",
        "\n",
        "df.rename(columns=rename, inplace=True)\n",
        "\n",
        "df['CPU Name'] = df['CPU Name'].apply(lambda x: x.replace('-', ' '))\n",
        "df['CPU Brand'] = df['CPU Name'].apply(lambda x: x.split(' ')[0])\n",
        "\n",
        "df['CPU Type'] = df['CPU Name'].apply(lambda x: re.findall('[a-zA-Z]+', x)[-1].upper() if x[-1].isalpha() else 'Normal')\n",
        "df['CPU Name'] = df['CPU Name'].apply(lambda x: x.replace(re.findall('[a-zA-Z]+', x)[-1], '', -1).strip() if x[-1].isalpha() else x)\n",
        "\n",
        "df['CPU Model'] = df['CPU Name']\n",
        "df['CPU Model'] = df.apply(lambda x : x['CPU Model'].replace(str(x['CPU Brand']), '').strip(), axis=1)\n",
        "\n",
        "cpu_series = ['A4', 'A6', 'Athlon', 'Athlon 64', 'Athlon II', 'FX', 'Ryzen', 'Core', 'Pentium']\n",
        "\n",
        "for series in cpu_series:\n",
        "    df['CPU Series Temp'] = df['CPU Model'].apply(lambda x: series if series in x else 'NA')\n",
        "    ind = df[df['CPU Series Temp']==series].index\n",
        "    df.loc[ind, 'CPU Series'] = df.loc[ind, 'CPU Series Temp']\n",
        "\n",
        "df['CPU Model'] = df.apply(lambda x : x['CPU Model'].replace(str(x['CPU Series']), '').strip(), axis=1)\n",
        "df.drop(['CPU Series Temp'], axis=1, inplace=True)\n",
        "\n",
        "df['CPU Generation'] = df['CPU Model'].apply(lambda x: x.split(' ')[-1][1] if x.split(' ')[-1][0].isalpha() else x.split(' ')[-1][0]).tolist()\n",
        "\n",
        "core_ind = df[df['CPU Series']=='Core'].index\n",
        "\n",
        "df.loc[core_ind, 'CPU Generation'] = df.loc[core_ind, 'CPU Model'].apply(lambda x: x.split(' ')[-1][0]+'0' if len(x.split(' ')[-1])==3 else x.split(' ')[-1][0])\n",
        "older_gen = {'90': 1, '80': 0, '70': -1, '60': -2, '50': -3, '40': -4, '(': None}\n",
        "df['CPU Generation'] = df['CPU Generation'].replace(older_gen)\n",
        "\n",
        "df['CPU Model'] = df.apply(lambda x : x['CPU Model'].replace(str(x['CPU Model'].split(' ')[-1]), '').strip(), axis=1)\n",
        "\n",
        "df['CPU Model'] = df['CPU Model'].fillna('NA')\n",
        "df['CPU Series'] = df['CPU Series'].fillna('NA')\n",
        "df.replace({'?': None}, inplace=True)\n",
        "\n",
        "df['GPU Transistors'] = df['GPU Transistors'].astype(float)\n",
        "df['CPU Transistors'] = df['CPU Transistors'].astype(float)\n",
        "\n",
        "df['GPU Die Size'] = df['GPU Die Size'].astype(float)\n",
        "df['CPU Die Size'] = df['CPU Die Size'].astype(float)"
      ]
    },
    {
      "cell_type": "code",
      "execution_count": null,
      "metadata": {
        "id": "sfN3DqTWY7Lp"
      },
      "outputs": [],
      "source": [
        "cpu_cols = ['CPU Name', 'CPU Brand', 'CPU Model', 'CPU Series', 'CPU Generation', 'CPU Type', 'CPU Cores', 'CPU Threads',\n",
        "            'CPU Base Clock', 'CPU Cache L1', 'CPU Cache L2', 'CPU Cache L3', 'CPU Die Size','CPU Frequency', 'CPU Multiplier',\n",
        "            'CPU Multiplier Unlocked', 'CPU Process Size', 'CPU TDP', 'CPU Transistors', 'CPU Turbo Clock']\n",
        "\n",
        "cpu_detail_cols = ['CPU Brand', 'CPU Model', 'CPU Series', 'CPU Generation']\n",
        "\n",
        "gpu_cols = ['GPU Name', 'GPU Architecture', 'GPU Bandwidth', 'GPU Base Clock', 'GPU Boost Clock', 'GPU Bus', 'GPU Compute Units',\n",
        "            'GPU Die Size', 'GPU Direct X', 'GPU Execution Units', 'GPU FP32 Performance', 'GPU Memory Bus', 'GPU Memory Size',\n",
        "            'GPU Memory Type', 'GPU Open CL', 'GPU Open GL', 'GPU Pixel Rate', 'GPU Process Size', 'GPU Number of ROPs', 'GPU Shader Model',\n",
        "            'GPU Shading Units', 'GPU TMUs', 'GPU Texture Rate', 'GPU Transistors', 'GPU Vulkan']\n",
        "\n",
        "gpu_detail_cols = ['GPU Brand', 'GPU Model', 'GPU Series', 'GPU Generation']\n",
        "\n",
        "\n",
        "cpu = df[cpu_cols]\n",
        "gpu = df[gpu_cols]"
      ]
    },
    {
      "cell_type": "code",
      "execution_count": null,
      "metadata": {
        "id": "zfdWyTFRh2mo"
      },
      "outputs": [],
      "source": [
        "# gpu['GPU Name Temp'] = gpu['GPU Name']\n",
        "# gpu['GPU Brand'] = gpu['GPU Name Temp'].apply(lambda x: x.split(' ')[0])\n",
        "# gpu['GPU Name Temp'] = gpu['GPU Name Temp'].apply(lambda x: ' '.join(x.split(' ')[1:]))\n",
        "\n",
        "# gpu['GPU Model'] = gpu['GPU Name Temp'].apply(lambda x: x.split(' ')[0])\n",
        "# gpu['GPU Name Temp'] = gpu['GPU Name Temp'].apply(lambda x: ' '.join(x.split(' ')[1:]))\n",
        "\n",
        "# gpu['GPU Series'] = gpu['GPU Name Temp'].apply(lambda x: x.split(' ')[0])\n",
        "# gpu['GPU Name Temp'] = gpu['GPU Name Temp'].apply(lambda x: ' '.join(x.split(' ')[1:]))\n",
        "\n",
        "# gpu['GPU Generation'] = gpu['GPU Name Temp'].apply(lambda x: x.split(' ')[0])\n",
        "# gpu['GPU Name Temp'] = gpu['GPU Name Temp'].apply(lambda x: ' '.join(x.split(' ')[1:]))"
      ]
    },
    {
      "cell_type": "code",
      "execution_count": null,
      "metadata": {
        "id": "PzjwDahCgrE4"
      },
      "outputs": [],
      "source": [
        "cpu_null_cols = ['CPU Cache L3', 'CPU Die Size', 'CPU Transistors']\n",
        "gpu_null_cols = ['GPU Bandwidth', 'GPU Compute Units', 'GPU Compute Units', 'GPU Compute Units', 'GPU Die Size',\n",
        "                 'GPU Execution Units', 'GPU FP32 Performance', 'GPU Memory Bus', 'GPU Memory Size', 'GPU Memory Type',\n",
        "                 'GPU Open CL', 'GPU Shader Model', 'GPU Shading Units', 'GPU Transistors', 'GPU Vulkan']"
      ]
    },
    {
      "cell_type": "markdown",
      "metadata": {
        "id": "DIf-LWXVZaD9"
      },
      "source": [
        "## Exploratory Data Analysis"
      ]
    },
    {
      "cell_type": "code",
      "execution_count": null,
      "metadata": {
        "id": "ua9S-yLdUhWi"
      },
      "outputs": [],
      "source": [
        "def missing_values_table(df):\n",
        "    mis_val = df.isnull().sum()\n",
        "    mis_val_percent = 100 * df.isnull().sum() / len(df)\n",
        "    mis_val_table = pd.concat([mis_val, mis_val_percent], axis=1)\n",
        "    mis_val_table_ren_columns = mis_val_table.rename(\n",
        "    columns = {0: 'Missing Values', 1: '% of Total Values'})\n",
        "    mis_val_table_ren_columns = mis_val_table_ren_columns[mis_val_table_ren_columns.iloc[:,1] != 0].sort_values('% of Total Values', ascending=False).round(1)\n",
        "    print(f'Your selected dataframe has {str(df.shape[1])} columns.\\nThere are {str(mis_val_table_ren_columns.shape[0])} columns that have missing values.')\n",
        "    return mis_val_table_ren_columns"
      ]
    },
    {
      "cell_type": "code",
      "execution_count": null,
      "metadata": {
        "id": "Sqj1gpLj5UM8"
      },
      "outputs": [],
      "source": [
        "df.head()"
      ]
    },
    {
      "cell_type": "code",
      "execution_count": null,
      "metadata": {
        "id": "CwTd87vrUj7H"
      },
      "outputs": [],
      "source": [
        "missing_values_table(df)"
      ]
    },
    {
      "cell_type": "code",
      "execution_count": null,
      "metadata": {
        "id": "GmefXKs5pNSd"
      },
      "outputs": [],
      "source": [
        "gpu1 = df[['GPU Process Size', 'GPU Transistors', 'GPU Die Size']]\n",
        "gpu1.dropna(inplace=True)\n",
        "cpu1 = df[['CPU Process Size', 'CPU Transistors', 'CPU Die Size']]\n",
        "cpu1.dropna(inplace=True)"
      ]
    },
    {
      "cell_type": "code",
      "execution_count": null,
      "metadata": {
        "id": "-__m3ofBUSg8"
      },
      "outputs": [],
      "source": [
        "fig = go.Figure(data=[go.Scatter3d(\n",
        "    x=cpu1['CPU Process Size'], y=cpu1['CPU Transistors'], z=cpu1['CPU Die Size'],\n",
        "    mode='markers',\n",
        "    marker=dict(\n",
        "        size=cpu1['CPU Transistors'].apply(lambda x: x*0.006),\n",
        "        color=cpu1['CPU Process Size'],\n",
        "        colorscale='Viridis',\n",
        "        opacity=0.8\n",
        "    )\n",
        ")])\n",
        "\n",
        "fig.update_layout(title='(CPU) Process Size vs Die Size vs Transistors',\n",
        "                  autosize=False,\n",
        "                  width=800,\n",
        "                  height=800,\n",
        "                  scene = dict(\n",
        "                      xaxis_title='Process Size',\n",
        "                      yaxis_title='Transistors',\n",
        "                      zaxis_title='Die Size'))\n",
        "fig.show()"
      ]
    },
    {
      "cell_type": "code",
      "execution_count": null,
      "metadata": {
        "id": "so-QbTH6mYRa"
      },
      "outputs": [],
      "source": [
        "fig = go.Figure(data=[go.Scatter3d(\n",
        "    x=gpu1['GPU Process Size'], y=gpu1['GPU Transistors'], z=gpu1['GPU Die Size'],\n",
        "    mode='markers',\n",
        "    marker=dict(\n",
        "        size=gpu1['GPU Transistors'].apply(lambda x: x*0.003),\n",
        "        color=gpu1['GPU Process Size'],\n",
        "        colorscale='Viridis',\n",
        "        opacity=0.8\n",
        "    )\n",
        ")])\n",
        "\n",
        "fig.update_layout(title='(GPU) Process Size vs Die Size vs Transistors',\n",
        "                  autosize=False,\n",
        "                  width=800,\n",
        "                  height=800,\n",
        "                  scene = dict(\n",
        "                      xaxis_title='Process Size',\n",
        "                      yaxis_title='Transistors',\n",
        "                      zaxis_title='Die Size'))\n",
        "fig.show('svg')"
      ]
    },
    {
      "cell_type": "code",
      "execution_count": null,
      "metadata": {
        "id": "yOH5ImbiBEMe"
      },
      "outputs": [],
      "source": [
        "cpu2 = df[['CPU Brand', 'CPU Series', 'CPU Model', 'CPU Generation', 'CPU Type']]\n",
        "cpu2['Count'] = 1\n",
        "\n",
        "fig = px.sunburst(cpu2, path=['CPU Brand', 'CPU Series', 'CPU Model'], values='Count', title='Pie Chart of CPUs in our dataset',\n",
        "            color='CPU Brand', color_continuous_scale='Viridis', color_continuous_midpoint=5)\n",
        "fig.show()"
      ]
    },
    {
      "cell_type": "code",
      "execution_count": null,
      "metadata": {
        "id": "6-t6pvk9eHoq"
      },
      "outputs": [],
      "source": [
        "game = df[['Game', 'Game Resolution', 'Game Settings']]\n",
        "game['Count'] = 1\n",
        "\n",
        "game_count = game.groupby(['Game']).agg('count').reset_index().drop_duplicates()\n",
        "fig = px.bar(game_count, x='Game', y='Count')\n",
        "fig.show()"
      ]
    },
    {
      "cell_type": "code",
      "execution_count": null,
      "metadata": {
        "id": "v99m0Q9rJYt3"
      },
      "outputs": [],
      "source": [
        "game = df[['Game', 'Game Resolution', 'Game Settings']]\n",
        "game['Count'] = 1\n",
        "\n",
        "game_reso = game.groupby(['Game Resolution']).agg('count').reset_index().drop_duplicates()\n",
        "fig = px.bar(game_reso, x='Game Resolution', y='Count')\n",
        "fig.show()"
      ]
    },
    {
      "cell_type": "code",
      "execution_count": null,
      "metadata": {
        "id": "NBP8ccUGfM4Q"
      },
      "outputs": [],
      "source": [
        "game = df[['Game', 'Game Resolution', 'Game Settings']]\n",
        "game['Count'] = 1\n",
        "\n",
        "game_sett = game.groupby(['Game Settings']).agg('count').reset_index().drop_duplicates()\n",
        "fig = px.bar(game_sett, x='Game Settings', y='Count')\n",
        "fig.show()"
      ]
    },
    {
      "cell_type": "code",
      "execution_count": null,
      "metadata": {
        "id": "M4vyKdcXPNTJ"
      },
      "outputs": [],
      "source": [
        "corr = df.corr()\n",
        "\n",
        "fig = go.Figure(data=go.Heatmap(z=corr, x=corr.columns, y=corr.columns,\n",
        "                                xgap=1, ygap=1, colorscale='Viridis'),\n",
        "                layout=go.Layout(title_text='Correlation Plot', height=1000,\n",
        "                                 yaxis_autorange='reversed'))\n",
        "\n",
        "fig.show()"
      ]
    },
    {
      "cell_type": "markdown",
      "metadata": {
        "id": "pI7Y9Ow9Zr4F"
      },
      "source": [
        "## Inference"
      ]
    },
    {
      "cell_type": "code",
      "execution_count": null,
      "metadata": {
        "id": "uN55ArCCzN-_"
      },
      "outputs": [],
      "source": [
        "cpu_years = pd.read_excel('/content/gdrive/MyDrive/Capstone/cpu_names.xlsx')"
      ]
    },
    {
      "cell_type": "code",
      "execution_count": null,
      "metadata": {
        "id": "14begqPMzGOY"
      },
      "outputs": [],
      "source": [
        "cpu_detail_cols = ['CPU Brand', 'CPU Model', 'CPU Series', 'CPU Generation', 'CPU Cores']\n",
        "\n",
        "cpu_years['CPU Name'] = cpu_years['CPU Name'].apply(lambda x:x.replace('-', ' '))\n",
        "# cpu_years.drop(['month'], axis=1, inplace=True)\n",
        "cpu = pd.merge(df[cpu_detail_cols + ['CPU Name', 'CPU Transistors']], cpu_years, how='left', on='CPU Name')\n",
        "cpu = cpu[~cpu['CPU Transistors'].isna() & ~cpu['CPU Generation'].isna()] #dropping na transistors\n",
        "\n",
        "cpu.drop(['Unnamed: 3'], axis=1, inplace=True)\n",
        "numeric_cols = ['CPU Transistors', 'CPU Generation']\n",
        "cpu[numeric_cols] = cpu[numeric_cols].apply(pd.to_numeric)\n",
        "\n",
        "cpu.dropna(inplace = True)\n",
        "cpu = cpu.drop_duplicates()\n",
        "cpu['Adjusted Transistors'] = cpu['CPU Transistors']/cpu['CPU Cores']\n",
        "cpu['Adjusted Transistors'] = cpu['Adjusted Transistors'].apply(int)\n",
        "\n",
        "cpu.sort_values('CPU Release Year')\n",
        "\n",
        "temp = cpu.copy()\n",
        "new_cols = [x.replace(' ', '_') for x in cpu.columns]\n",
        "print(new_cols)\n",
        "temp.columns = new_cols\n",
        "temp.head()"
      ]
    },
    {
      "cell_type": "code",
      "execution_count": null,
      "metadata": {
        "id": "ql58JQxEb6lz"
      },
      "outputs": [],
      "source": [
        "out = sqldf('''\n",
        "\n",
        "    select max(Adjusted_Transistors) as Max_transistors, count(Adjusted_Transistors) as Models_released,\n",
        "    avg(Adjusted_Transistors) as Avg_transistors,\n",
        "    case when month < 1 then CPU_Release_Year - 1 \n",
        "    when month > 9 then CPU_Release_Year + 1\n",
        "    else CPU_Release_Year\n",
        "    end as new_year\n",
        "    from temp group by new_year\n",
        "\n",
        "''')"
      ]
    },
    {
      "cell_type": "code",
      "execution_count": null,
      "metadata": {
        "id": "rTk2oSc7b6lz"
      },
      "outputs": [],
      "source": [
        "out['Double_Transistors'] = 2 * out['Max_transistors']\n",
        "out['Actual_Transistors'] = out['Max_transistors'].shift(-2)"
      ]
    },
    {
      "cell_type": "code",
      "execution_count": null,
      "metadata": {
        "id": "abh1BVs6b6lz"
      },
      "outputs": [],
      "source": [
        "out = out.replace(out.iloc[13][0], 1200) \n",
        "out = out.replace(out.iloc[6][0], 1303)\n",
        "out = out.replace(out.iloc[7][0], 1303)\n",
        "out = out.replace(out.iloc[11][0], 3100)"
      ]
    },
    {
      "cell_type": "code",
      "execution_count": null,
      "metadata": {
        "id": "CuJ6LMMfb6lz"
      },
      "outputs": [],
      "source": [
        "out"
      ]
    },
    {
      "cell_type": "code",
      "execution_count": null,
      "metadata": {
        "id": "J01zSCakb6lz"
      },
      "outputs": [],
      "source": [
        "stat1, p1 = stats.ks_2samp(out['Actual_Transistors'][:-2], out['Double_Transistors'][:-2])"
      ]
    },
    {
      "cell_type": "code",
      "execution_count": null,
      "metadata": {
        "id": "wVWDlI0Jb6lz"
      },
      "outputs": [],
      "source": [
        "stat2, p2 = stats.mannwhitneyu(out['Actual_Transistors'][:-2], out['Double_Transistors'][:-2])"
      ]
    },
    {
      "cell_type": "code",
      "execution_count": null,
      "metadata": {
        "id": "8Of9G2V2bEFo"
      },
      "outputs": [],
      "source": [
        "n1 = 12\n",
        "n2 = 12\n",
        "mu = (n1*n2)/2\n",
        "sigma = math.sqrt((n1*n2)*(n1+n2+1)/12)\n",
        "z = (stat2 - mu)/sigma\n",
        "r = abs(z)/math.sqrt(n1)"
      ]
    },
    {
      "cell_type": "code",
      "execution_count": null,
      "metadata": {
        "id": "MizbDMlibEIS"
      },
      "outputs": [],
      "source": [
        "r"
      ]
    },
    {
      "cell_type": "code",
      "execution_count": null,
      "metadata": {
        "id": "GjSE2QpZb6lz"
      },
      "outputs": [],
      "source": [
        "kde_df = out[['Actual_Transistors', 'Double_Transistors']]"
      ]
    },
    {
      "cell_type": "code",
      "execution_count": null,
      "metadata": {
        "id": "c1TSiaRfb6lz"
      },
      "outputs": [],
      "source": [
        "ax = kde_df.plot.kde()\n",
        "plt.xlabel('Transistors')\n",
        "plt.ylabel('Density')\n",
        "plt.title('Comparison of Distribution Between Actual Transistors and Double Transistors')\n",
        "plt.savefig('KDE Plot Of Distributions')"
      ]
    },
    {
      "cell_type": "code",
      "execution_count": null,
      "metadata": {
        "id": "4rejDJp0WyRa"
      },
      "outputs": [],
      "source": [
        "one = out['Double_Transistors'][:-2]\n",
        "two = out['Actual_Transistors'][:-2]"
      ]
    },
    {
      "cell_type": "code",
      "execution_count": null,
      "metadata": {
        "id": "w88M6gdFb6lz"
      },
      "outputs": [],
      "source": [
        "X = out['new_year'][:-2]\n",
        "X_axis = np.arange(len(X))\n",
        "plt.bar(X_axis - 0.2, one, 0.4, label = 'Double_Transistors')\n",
        "plt.bar(X_axis + 0.2, two, 0.4, label = 'Actual_Transistors')\n",
        "plt.xticks(X_axis, X)\n",
        "plt.xlabel('Year')\n",
        "plt.ylabel('Number of Transistors')\n",
        "plt.title('Comparison of Distribution Between Actual Transistors and Double Transistors')\n",
        "plt.xticks(rotation = 45)\n",
        "plt.legend()\n",
        "plt.show()\n",
        "plt.savefig('Bar Plot Of Distributions')"
      ]
    },
    {
      "cell_type": "code",
      "execution_count": null,
      "metadata": {
        "id": "52zCOGWQb6l0"
      },
      "outputs": [],
      "source": [
        "errorBar_df = out.copy()"
      ]
    },
    {
      "cell_type": "code",
      "execution_count": null,
      "metadata": {
        "id": "Vm3hkFR8b6l0"
      },
      "outputs": [],
      "source": [
        "errorBar_df['Errors'] = abs(errorBar_df['Double_Transistors'] - errorBar_df['Actual_Transistors'])"
      ]
    },
    {
      "cell_type": "code",
      "execution_count": null,
      "metadata": {
        "id": "BhY_u3Xxb6l0"
      },
      "outputs": [],
      "source": [
        "errorBar_df"
      ]
    },
    {
      "cell_type": "code",
      "execution_count": null,
      "metadata": {
        "id": "HFTU3Piib6l0"
      },
      "outputs": [],
      "source": [
        "sem_Actual = out['Actual_Transistors'].std() / math.sqrt(12)\n",
        "sem_Actual"
      ]
    },
    {
      "cell_type": "code",
      "execution_count": null,
      "metadata": {
        "id": "c1QsBarKb6l0"
      },
      "outputs": [],
      "source": [
        "sem_Expected = out['Double_Transistors'].std() / math.sqrt(12)\n",
        "sem_Expected"
      ]
    },
    {
      "cell_type": "code",
      "execution_count": null,
      "metadata": {
        "id": "vLFKW_Kcb6l0"
      },
      "outputs": [],
      "source": [
        "fig, ax = plt.subplots(figsize = (10, 10))\n",
        "ax.bar(errorBar_df['new_year'], errorBar_df['Actual_Transistors'],\n",
        "       yerr=sem_Actual,\n",
        "       align='center',\n",
        "       alpha=0.5,\n",
        "       ecolor='black',\n",
        "       capsize=10)\n",
        "plt.xlabel('Year')\n",
        "plt.ylabel('Actual Number of Transistors')"
      ]
    },
    {
      "cell_type": "code",
      "execution_count": null,
      "metadata": {
        "id": "BWeGxvwHb6l0"
      },
      "outputs": [],
      "source": [
        "fig, ax = plt.subplots(figsize = (10, 10))\n",
        "ax.bar(errorBar_df['new_year'], errorBar_df['Double_Transistors'],\n",
        "       yerr=sem_Expected,\n",
        "       align='center',\n",
        "       alpha=0.5,\n",
        "       ecolor='black',\n",
        "       capsize=10)\n",
        "plt.xlabel('Year')\n",
        "plt.ylabel('Expected Number of Transistors')"
      ]
    },
    {
      "cell_type": "markdown",
      "metadata": {
        "id": "3NRB2n-Ba8FN"
      },
      "source": [
        "## Data Imputation"
      ]
    },
    {
      "cell_type": "code",
      "execution_count": null,
      "metadata": {
        "id": "ufk6Yl3eHfZf"
      },
      "outputs": [],
      "source": [
        "based_col = ['CPU Brand', 'CPU Model', 'CPU Series', 'CPU Generation']\n",
        "\n",
        "geometric_cols = ['CPU Transistors']\n",
        "linear_cols = ['CPU Die Size']\n",
        "step_cols = []\n",
        "\n",
        "# Geometric Imputation\n",
        "if geometric_cols:\n",
        "    for impute_col in geometric_cols:\n",
        "        temp = df[based_col + [impute_col]].dropna(inplace=False)\n",
        "        temp[impute_col] = pd.to_numeric(temp[impute_col])\n",
        "        index = df[df[impute_col].isnull()].index.tolist()\n",
        "\n",
        "        value = temp.groupby(based_col).agg('mean').reset_index().to_dict('split')['data']\n",
        "        value_keys = [val[:4] for val in value]\n",
        "        for ind in tqdm(index):\n",
        "\n",
        "            key = tuple(df.loc[ind, based_col].values)\n",
        "            previous = [val for val in value if key[:3] == tuple(val[:3])]\n",
        "            if not previous:\n",
        "                df.drop(ind, axis=0, inplace=True)\n",
        "                continue\n",
        "            gen = [int(p[3]) for p in previous]\n",
        "            impute = [int(p[-1]) for p in previous]    \n",
        "\n",
        "            if list(key) in value_keys:\n",
        "                df.loc[ind, impute_col] = [val for val in value if key[:4] == tuple(val[:4])][0][-1]\n",
        "\n",
        "            else:\n",
        "                if int(key[3]) > min(gen) and int(key[3]) < max(gen):\n",
        "                    geom = np.geomspace(impute[gen.index(min(gen))],\n",
        "                                        impute[gen.index(max(gen))],\n",
        "                                        max(gen) - min(gen) + 1)\n",
        "                    df.loc[ind, impute_col] = geom[int(key[-1])-min(gen)]\n",
        "\n",
        "                if int(key[3]) < min(gen):\n",
        "                    gap = min(gen) - int(key[3])\n",
        "                    val = impute[gen.index(min(gen))]\n",
        "                    for i in range(gap): val /= 2\n",
        "                    df.loc[ind, impute_col] = val\n",
        "                \n",
        "                else:\n",
        "                    gap = int(key[3]) - max(gen)\n",
        "                    val = impute[gen.index(min(gen))]\n",
        "                    for i in range(gap): val *= 2\n",
        "                    df.loc[ind, impute_col] = val\n",
        "\n",
        "\n",
        "# Linear Imputation\n",
        "if linear_cols:\n",
        "    for impute_col in linear_cols:\n",
        "        temp = df[based_col + [impute_col]].dropna(inplace=False)\n",
        "        temp[impute_col] = pd.to_numeric(temp[impute_col])\n",
        "        index = df[df[impute_col].isnull()].index.tolist()\n",
        "\n",
        "        value = temp.groupby(based_col).agg('mean').reset_index().to_dict('split')['data']\n",
        "        value_keys = [val[:4] for val in value]\n",
        "        for ind in tqdm(index):\n",
        "\n",
        "            key = tuple(df.loc[ind, based_col].values)\n",
        "            previous = [val for val in value if key[:3] == tuple(val[:3])]\n",
        "            if not previous:\n",
        "                df.drop(ind, axis=0, inplace=True)\n",
        "                continue\n",
        "            gen = [int(p[3]) for p in previous]\n",
        "            impute = [int(p[-1]) for p in previous]    \n",
        "\n",
        "            if list(key) in value_keys:\n",
        "                df.loc[ind, impute_col] = [val for val in value if key[:4] == tuple(val[:4])][0][-1]\n",
        "\n",
        "            else:\n",
        "                lr = LinearRegression()\n",
        "                lr.fit(np.array(gen).reshape(-1, 1), np.array(impute).reshape(-1, 1))\n",
        "                df.loc[ind, impute_col] = lr.predict([[7]])[0][0]\n",
        "\n",
        "\n",
        "# Step Imputation\n",
        "if step_cols:\n",
        "    for impute_col in step_cols:\n",
        "        temp = df[based_col + [impute_col]].dropna(inplace=False)\n",
        "        temp[impute_col] = pd.to_numeric(temp[impute_col])\n",
        "        index = df[df[impute_col].isnull()].index.tolist()\n",
        "\n",
        "        value = temp.groupby(based_col).agg('mean').reset_index().to_dict('split')['data']\n",
        "        value_keys = [val[:4] for val in value]\n",
        "        for ind in tqdm(index):\n",
        "\n",
        "            key = tuple(df.loc[ind, based_col].values)\n",
        "            previous = [val for val in value if key[:3] == tuple(val[:3])]\n",
        "            if not previous:\n",
        "                df.drop(ind, axis=0, inplace=True)\n",
        "                continue\n",
        "            gen = [int(p[3]) for p in previous]\n",
        "            impute = [int(p[-1]) for p in previous]    \n",
        "\n",
        "            if list(key) in value_keys:\n",
        "                df.loc[ind, impute_col] = [val for val in value if key[:4] == tuple(val[:4])][0][-1]\n",
        "\n",
        "            else:\n",
        "                steps = np.linspace(impute[gen.index(min(gen))],\n",
        "                                    impute[gen.index(max(gen))],\n",
        "                                    max(gen) - min(gen) + 1)\n",
        "                step = step[1] - step[0]\n",
        "                if int(key[3]) > min(gen) and int(key[3]) < max(gen):\n",
        "                    df.loc[ind, impute_col] = steps[int(key[-1])-min(gen)]\n",
        "\n",
        "                if int(key[3]) < min(gen):\n",
        "                    gap = min(gen) - int(key[3])\n",
        "                    val = impute[gen.index(min(gen))]\n",
        "                    for i in range(gap): val -= step\n",
        "                    df.loc[ind, impute_col] = val\n",
        "                \n",
        "                else:\n",
        "                    gap = int(key[3]) - max(gen)\n",
        "                    val = impute[gen.index(min(gen))]\n",
        "                    for i in range(gap): val += step\n",
        "                    df.loc[ind, impute_col] = val"
      ]
    },
    {
      "cell_type": "code",
      "execution_count": null,
      "metadata": {
        "id": "diUY-dDuvGiT"
      },
      "outputs": [],
      "source": [
        " missing_values_table(df)"
      ]
    }
  ]
}